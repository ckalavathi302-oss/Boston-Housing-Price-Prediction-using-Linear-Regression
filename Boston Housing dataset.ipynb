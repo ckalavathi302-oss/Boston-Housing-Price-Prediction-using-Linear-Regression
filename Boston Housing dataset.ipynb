{
 "cells": [
  {
   "cell_type": "code",
   "execution_count": 1,
   "id": "0bb35073-6370-4aa9-ba6c-a66d3c602ba8",
   "metadata": {},
   "outputs": [],
   "source": [
    "# Import necessary libraries\n",
    "import pandas as pd\n",
    "import numpy as np\n",
    "from sklearn.model_selection import train_test_split, cross_val_score\n",
    "from sklearn.linear_model import LinearRegression\n",
    "from sklearn.metrics import mean_squared_error, r2_score\n",
    "import statsmodels.api as sm\n",
    "from statsmodels.tools.eval_measures import aic, bic"
   ]
  },
  {
   "cell_type": "code",
   "execution_count": 5,
   "id": "2cded322-44ec-4932-8fc9-398ed95166f9",
   "metadata": {},
   "outputs": [],
   "source": [
    "# Load the Boston Housing dataset\n",
    "#LOAD\n",
    "df = pd.read_csv(r\"C:\\Users\\ElavarasiChinnadurai\\Downloads\\boston.csv\")"
   ]
  },
  {
   "cell_type": "code",
   "execution_count": 6,
   "id": "31c7b4c5-9695-4a94-a92b-d46c1c1ca9b8",
   "metadata": {},
   "outputs": [
    {
     "name": "stdout",
     "output_type": "stream",
     "text": [
      "                            OLS Regression Results                            \n",
      "==============================================================================\n",
      "Dep. Variable:                   MEDV   R-squared:                       0.484\n",
      "Model:                            OLS   Adj. R-squared:                  0.483\n",
      "Method:                 Least Squares   F-statistic:                     471.8\n",
      "Date:                Fri, 26 Sep 2025   Prob (F-statistic):           2.49e-74\n",
      "Time:                        12:49:22   Log-Likelihood:                -1673.1\n",
      "No. Observations:                 506   AIC:                             3350.\n",
      "Df Residuals:                     504   BIC:                             3359.\n",
      "Df Model:                           1                                         \n",
      "Covariance Type:            nonrobust                                         \n",
      "==============================================================================\n",
      "                 coef    std err          t      P>|t|      [0.025      0.975]\n",
      "------------------------------------------------------------------------------\n",
      "const        -34.6706      2.650    -13.084      0.000     -39.877     -29.465\n",
      "RM             9.1021      0.419     21.722      0.000       8.279       9.925\n",
      "==============================================================================\n",
      "Omnibus:                      102.585   Durbin-Watson:                   0.684\n",
      "Prob(Omnibus):                  0.000   Jarque-Bera (JB):              612.449\n",
      "Skew:                           0.726   Prob(JB):                    1.02e-133\n",
      "Kurtosis:                       8.190   Cond. No.                         58.4\n",
      "==============================================================================\n",
      "\n",
      "Notes:\n",
      "[1] Standard Errors assume that the covariance matrix of the errors is correctly specified.\n"
     ]
    }
   ],
   "source": [
    "# Simple Linear Regression: MEDV ~ RM\n",
    "\n",
    "X_simple = df[['RM']]\n",
    "y = df['MEDV']\n",
    "X_simple = sm.add_constant(X_simple)\n",
    "\n",
    "model_simple = sm.OLS(y, X_simple).fit()\n",
    "print(model_simple.summary())"
   ]
  },
  {
   "cell_type": "code",
   "execution_count": 8,
   "id": "b1aa129e-acb4-422a-8b0a-41f47aebbdb5",
   "metadata": {},
   "outputs": [
    {
     "name": "stdout",
     "output_type": "stream",
     "text": [
      "                            OLS Regression Results                            \n",
      "==============================================================================\n",
      "Dep. Variable:                   MEDV   R-squared:                       0.646\n",
      "Model:                            OLS   Adj. R-squared:                  0.644\n",
      "Method:                 Least Squares   F-statistic:                     305.2\n",
      "Date:                Fri, 26 Sep 2025   Prob (F-statistic):          1.01e-112\n",
      "Time:                        12:50:20   Log-Likelihood:                -1577.6\n",
      "No. Observations:                 506   AIC:                             3163.\n",
      "Df Residuals:                     502   BIC:                             3180.\n",
      "Df Model:                           3                                         \n",
      "Covariance Type:            nonrobust                                         \n",
      "==============================================================================\n",
      "                 coef    std err          t      P>|t|      [0.025      0.975]\n",
      "------------------------------------------------------------------------------\n",
      "const         -2.5623      3.166     -0.809      0.419      -8.783       3.658\n",
      "RM             5.2170      0.442     11.802      0.000       4.348       6.085\n",
      "LSTAT         -0.5785      0.048    -12.135      0.000      -0.672      -0.485\n",
      "CRIM          -0.1029      0.032     -3.215      0.001      -0.166      -0.040\n",
      "==============================================================================\n",
      "Omnibus:                      171.754   Durbin-Watson:                   0.822\n",
      "Prob(Omnibus):                  0.000   Jarque-Bera (JB):              628.308\n",
      "Skew:                           1.535   Prob(JB):                    3.67e-137\n",
      "Kurtosis:                       7.514   Cond. No.                         216.\n",
      "==============================================================================\n",
      "\n",
      "Notes:\n",
      "[1] Standard Errors assume that the covariance matrix of the errors is correctly specified.\n"
     ]
    }
   ],
   "source": [
    "#Multiple Linear Regression: MEDV ~ RM + LSTAT + CRIM\n",
    "X_multi = df[['RM', 'LSTAT', 'CRIM']]\n",
    "X_multi = sm.add_constant(X_multi)\n",
    "\n",
    "model_multi = sm.OLS(y, X_multi).fit()\n",
    "print(model_multi.summary())"
   ]
  },
  {
   "cell_type": "code",
   "execution_count": 9,
   "id": "12d6a2c7-1dd8-4e81-9b57-429868f48488",
   "metadata": {},
   "outputs": [
    {
     "name": "stdout",
     "output_type": "stream",
     "text": [
      "Simple Model: MSE = 43.60055177116956 RMSE = 6.603071389222561\n",
      "Multiple Model: MSE = 29.8970126193923 RMSE = 5.46781607402739\n"
     ]
    }
   ],
   "source": [
    "#MSE, RMSE, R², Adjusted R²\n",
    "\n",
    "#Predictions\n",
    "y_pred_simple = model_simple.predict(X_simple)\n",
    "y_pred_multi = model_multi.predict(X_multi)\n",
    "\n",
    "#Metrics\n",
    "mse_simple = mean_squared_error(y, y_pred_simple)\n",
    "rmse_simple = mse_simple ** 0.5\n",
    "\n",
    "mse_multi = mean_squared_error(y, y_pred_multi)\n",
    "rmse_multi = mse_multi ** 0.5\n",
    "\n",
    "print(\"Simple Model: MSE =\", mse_simple, \"RMSE =\", rmse_simple)\n",
    "print(\"Multiple Model: MSE =\", mse_multi, \"RMSE =\", rmse_multi)"
   ]
  },
  {
   "cell_type": "code",
   "execution_count": 10,
   "id": "8e3e86b2-94e2-4c63-9d9b-1dedaf495312",
   "metadata": {},
   "outputs": [
    {
     "name": "stdout",
     "output_type": "stream",
     "text": [
      "5-Fold Cross-Validation R² Scores: [ 0.65218907  0.69317906  0.41882483  0.17386096 -0.27841169]\n",
      "Average R²: 0.33192844374030106\n"
     ]
    }
   ],
   "source": [
    "#5-Fold Cross-Validation (for Multiple Model)\n",
    "X = df[['RM', 'LSTAT', 'CRIM']]\n",
    "y = df['MEDV']\n",
    "\n",
    "lr = LinearRegression()\n",
    "scores = cross_val_score(lr, X, y, scoring='r2', cv=5)\n",
    "\n",
    "print(\"5-Fold Cross-Validation R² Scores:\", scores)\n",
    "print(\"Average R²:\", scores.mean())"
   ]
  },
  {
   "cell_type": "code",
   "execution_count": 11,
   "id": "8b31b622-9dc3-44f5-b8f4-46a7e3864cf4",
   "metadata": {},
   "outputs": [
    {
     "name": "stdout",
     "output_type": "stream",
     "text": [
      "Simple Model AIC: 3350.151117225073 BIC: 3358.604190563648\n",
      "Multiple Model AIC: 3163.231628486269 BIC: 3180.137775163419\n"
     ]
    }
   ],
   "source": [
    "#Compare AIC & BIC\n",
    "print(\"Simple Model AIC:\", model_simple.aic, \"BIC:\", model_simple.bic)\n",
    "print(\"Multiple Model AIC:\", model_multi.aic, \"BIC:\", model_multi.bic)"
   ]
  },
  {
   "cell_type": "code",
   "execution_count": null,
   "id": "845fed88-d625-49cf-8fcd-0b6fedb5b5de",
   "metadata": {},
   "outputs": [],
   "source": []
  }
 ],
 "metadata": {
  "kernelspec": {
   "display_name": "Python 3 (ipykernel)",
   "language": "python",
   "name": "python3"
  },
  "language_info": {
   "codemirror_mode": {
    "name": "ipython",
    "version": 3
   },
   "file_extension": ".py",
   "mimetype": "text/x-python",
   "name": "python",
   "nbconvert_exporter": "python",
   "pygments_lexer": "ipython3",
   "version": "3.13.5"
  }
 },
 "nbformat": 4,
 "nbformat_minor": 5
}
